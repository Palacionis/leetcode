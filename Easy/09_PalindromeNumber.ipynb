{
 "cells": [
  {
   "cell_type": "code",
   "execution_count": null,
   "metadata": {},
   "outputs": [],
   "source": [
    "# Given an integer x, return true if x is palindrome integer.\n",
    "# An integer is a palindrome when it reads the same backward as forward.\n",
    "\n",
    "# For example, 121 is a palindrome while 123 is not."
   ]
  },
  {
   "cell_type": "code",
   "execution_count": 1,
   "metadata": {},
   "outputs": [
    {
     "data": {
      "text/plain": [
       "True"
      ]
     },
     "execution_count": 1,
     "metadata": {},
     "output_type": "execute_result"
    }
   ],
   "source": [
    "# with string casting\n",
    "\n",
    "def isPalindrome(x):\n",
    "  return str(x) == str(x)[::-1]\n",
    "\n",
    "isPalindrome(121)"
   ]
  },
  {
   "cell_type": "code",
   "execution_count": 58,
   "metadata": {},
   "outputs": [
    {
     "data": {
      "text/plain": [
       "True"
      ]
     },
     "execution_count": 58,
     "metadata": {},
     "output_type": "execute_result"
    }
   ],
   "source": [
    "# without string casting\n",
    "def isPalindrome(x):\n",
    "    temp = x\n",
    "    new_number = 0\n",
    "\n",
    "\n",
    "    while x > 0:\n",
    "        digit = x % 10\n",
    "        new_number = new_number * 10 + digit \n",
    "\n",
    "        x = x // 10\n",
    "\n",
    "        \n",
    "    return new_number == temp\n",
    "\n",
    "isPalindrome(12121)  \n",
    "\n"
   ]
  },
  {
   "cell_type": "code",
   "execution_count": null,
   "metadata": {},
   "outputs": [],
   "source": []
  }
 ],
 "metadata": {
  "interpreter": {
   "hash": "5d9ebf5b8fca2044c25ec1c29ae6ce8b29a2c6b4659c72bccbd29e13c75a5fde"
  },
  "kernelspec": {
   "display_name": "Python 3.8.12 ('Kursams')",
   "language": "python",
   "name": "python3"
  },
  "language_info": {
   "codemirror_mode": {
    "name": "ipython",
    "version": 3
   },
   "file_extension": ".py",
   "mimetype": "text/x-python",
   "name": "python",
   "nbconvert_exporter": "python",
   "pygments_lexer": "ipython3",
   "version": "3.8.5"
  },
  "orig_nbformat": 4
 },
 "nbformat": 4,
 "nbformat_minor": 2
}
