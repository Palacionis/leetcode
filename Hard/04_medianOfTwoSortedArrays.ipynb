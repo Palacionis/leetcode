{
 "cells": [
  {
   "cell_type": "code",
   "execution_count": null,
   "metadata": {},
   "outputs": [],
   "source": [
    "# Given two sorted arrays nums1 and nums2 of size m and n respectively, return the median of the two sorted arrays.\n",
    "# The overall run time complexity should be O(log (m+n))\n",
    "\n",
    "\n",
    "# Input: nums1 = [1,2], nums2 = [3,4]\n",
    "# Output: 2.50000\n",
    "# Explanation: merged array = [1,2,3,4] and median is (2 + 3) / 2 = 2.5\n",
    "\n",
    "\n",
    "\n",
    "# Input: nums1 = [1,3], nums2 = [2]\n",
    "# Output: 2.00000\n",
    "# Explanation: merged array = [1,2,3] and median is 2"
   ]
  },
  {
   "cell_type": "code",
   "execution_count": null,
   "metadata": {},
   "outputs": [],
   "source": [
    "# simple approach in O(log(n+m)) time since sort is used \n",
    "\n",
    "def findMedianSortedArrays(nums1, nums2):\n",
    "\n",
    "    nums = nums1 + nums2\n",
    "    nums.sort()\n",
    "    \n",
    "    if len(nums) % 2 == 0:\n",
    "        return (nums[len(nums) // 2 - 1] + nums[len(nums) // 2]) / 2\n",
    "    else:\n",
    "        return nums[len(nums) // 2]\n"
   ]
  }
 ],
 "metadata": {
  "interpreter": {
   "hash": "a927df1c454baf2e029b41597da70c29fdc6e08f150c40e418cdd087fe40ab12"
  },
  "kernelspec": {
   "display_name": "Python 3.8.5 ('base')",
   "language": "python",
   "name": "python3"
  },
  "language_info": {
   "name": "python",
   "version": "3.8.5"
  },
  "orig_nbformat": 4
 },
 "nbformat": 4,
 "nbformat_minor": 2
}
