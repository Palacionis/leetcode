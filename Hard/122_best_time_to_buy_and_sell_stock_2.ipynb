{
 "cells": [
  {
   "cell_type": "code",
   "execution_count": null,
   "metadata": {},
   "outputs": [],
   "source": [
    "# You are given an integer array prices where prices[i] is the price of a given stock on the ith day.\n",
    "\n",
    "# On each day, you may decide to buy and/or sell the stock. You can only hold at most one share of the stock at any time. However, you can buy it then immediately sell it on the same day.\n",
    "\n",
    "# Find and return the maximum profit you can achieve."
   ]
  },
  {
   "cell_type": "code",
   "execution_count": 1,
   "metadata": {},
   "outputs": [
    {
     "data": {
      "text/plain": [
       "7"
      ]
     },
     "execution_count": 1,
     "metadata": {},
     "output_type": "execute_result"
    }
   ],
   "source": [
    "class Solution:\n",
    "    def maxProfit(self, prices: list[int]) -> int:\n",
    "         return sum([max(prices[i+1] - prices[i], 0) for i in range(len(prices)-1)])\n",
    "     \n",
    "a = Solution()\n",
    "a.maxProfit([7,1,5,3,6,4])"
   ]
  },
  {
   "cell_type": "code",
   "execution_count": null,
   "metadata": {},
   "outputs": [],
   "source": []
  }
 ],
 "metadata": {
  "kernelspec": {
   "display_name": "Python 3.9.13 ('base')",
   "language": "python",
   "name": "python3"
  },
  "language_info": {
   "codemirror_mode": {
    "name": "ipython",
    "version": 3
   },
   "file_extension": ".py",
   "mimetype": "text/x-python",
   "name": "python",
   "nbconvert_exporter": "python",
   "pygments_lexer": "ipython3",
   "version": "3.9.13"
  },
  "orig_nbformat": 4,
  "vscode": {
   "interpreter": {
    "hash": "994bfa03cc73824932ad0536d039e562563f4f693eb5aa35e81adc876b884873"
   }
  }
 },
 "nbformat": 4,
 "nbformat_minor": 2
}
