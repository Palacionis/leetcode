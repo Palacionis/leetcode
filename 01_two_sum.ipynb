{
 "cells": [
  {
   "cell_type": "code",
   "execution_count": null,
   "metadata": {},
   "outputs": [],
   "source": [
    "# Given an array of integers nums and an integer target, return indices of the two numbers such that they add up to target.\n",
    "# You may assume that each input would have exactly one solution, and you may not use the same element twice.\n",
    "# You can return the answer in any order.\n",
    "\n",
    "# Example\n",
    "\n",
    "# Input: nums = [2,7,11,15], target = 9\n",
    "# Output: [0,1]\n",
    "# Explanation: Because nums[0] + nums[1] == 9, we return [0, 1]"
   ]
  },
  {
   "cell_type": "code",
   "execution_count": 2,
   "metadata": {},
   "outputs": [
    {
     "data": {
      "text/plain": [
       "[0, 1]"
      ]
     },
     "execution_count": 2,
     "metadata": {},
     "output_type": "execute_result"
    }
   ],
   "source": [
    "# time complexity is O(n^2) because we loop through the same container twice\n",
    "# space O(1)\n",
    "\n",
    "def twoSum(nums, target):\n",
    "  nums_len = len(nums)\n",
    "  \n",
    "  for i in range(nums_len):\n",
    "    for j in range(i+1, nums_len):\n",
    "      if target - nums[i] == nums[j]:\n",
    "        return [i, j]\n",
    "      \n",
    "nums = [2,7,11,15]\n",
    "target = 9\n",
    "    \n",
    "twoSum(nums, target)"
   ]
  },
  {
   "cell_type": "code",
   "execution_count": 9,
   "metadata": {},
   "outputs": [
    {
     "data": {
      "text/plain": [
       "[0, 1]"
      ]
     },
     "execution_count": 9,
     "metadata": {},
     "output_type": "execute_result"
    }
   ],
   "source": [
    "# time complexity is O(n) because we iterate one time and store data in dict \n",
    "# space O(n) \n",
    "\n",
    "def twoSum(nums, target):\n",
    "  nums_len = len(nums)\n",
    "  hash_map = {}\n",
    "  for i in range(len(nums)):\n",
    "    hash_map[nums[i]] = i\n",
    "    \n",
    "  for i in range(nums_len):\n",
    "    remainder = target - nums[i]\n",
    "    \n",
    "    if remainder in hash_map and hash_map[remainder] != i:\n",
    "                return [i, hash_map[remainder]] \n",
    "    \n",
    "nums = [2,7,11,15]\n",
    "target = 9\n",
    "    \n",
    "twoSum(nums, target)"
   ]
  },
  {
   "cell_type": "code",
   "execution_count": 13,
   "metadata": {},
   "outputs": [
    {
     "data": {
      "text/plain": [
       "[1, 0]"
      ]
     },
     "execution_count": 13,
     "metadata": {},
     "output_type": "execute_result"
    }
   ],
   "source": [
    "# doing everything in one pass\n",
    "\n",
    "# time complexity is O(n) \n",
    "# space O(n) \n",
    "\n",
    "def twoSum(nums, target):\n",
    "  nums_len = len(nums)\n",
    "  hash_map = {}\n",
    "  \n",
    "  for i in range(nums_len):\n",
    "    \n",
    "    remainder = target - nums[i]\n",
    "    \n",
    "    if remainder in hash_map:\n",
    "      return [i, hash_map[remainder]] \n",
    "    \n",
    "    hash_map[nums[i]] = i\n",
    "    \n",
    "nums = [2,7,11,15]\n",
    "target = 9\n",
    "    \n",
    "twoSum(nums, target)"
   ]
  },
  {
   "cell_type": "code",
   "execution_count": null,
   "metadata": {},
   "outputs": [],
   "source": []
  }
 ],
 "metadata": {
  "interpreter": {
   "hash": "5d9ebf5b8fca2044c25ec1c29ae6ce8b29a2c6b4659c72bccbd29e13c75a5fde"
  },
  "kernelspec": {
   "display_name": "Python 3.8.12 ('Kursams')",
   "language": "python",
   "name": "python3"
  },
  "language_info": {
   "codemirror_mode": {
    "name": "ipython",
    "version": 3
   },
   "file_extension": ".py",
   "mimetype": "text/x-python",
   "name": "python",
   "nbconvert_exporter": "python",
   "pygments_lexer": "ipython3",
   "version": "3.8.12"
  },
  "orig_nbformat": 4
 },
 "nbformat": 4,
 "nbformat_minor": 2
}
