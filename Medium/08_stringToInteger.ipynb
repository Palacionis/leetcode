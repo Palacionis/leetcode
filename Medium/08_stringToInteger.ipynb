{
 "cells": [
  {
   "cell_type": "code",
   "execution_count": null,
   "metadata": {},
   "outputs": [],
   "source": [
    "# Implement the myAtoi(string s) function, which converts a string to a 32-bit signed integer (similar to C/C++'s atoi function).\n",
    "\n",
    "# The algorithm for myAtoi(string s) is as follows:\n",
    "\n",
    "# Read in and ignore any leading whitespace.\n",
    "# Check if the next character (if not already at the end of the string) is '-' or '+'.\n",
    "# Read this character in if it is either. This determines if the final result is negative or positive respectively. Assume the result is positive if neither is present.\n",
    "# Read in next the characters until the next non-digit character or the end of the input is reached. The rest of the string is ignored.\n",
    "# Convert these digits into an integer (i.e. \"123\" -> 123, \"0032\" -> 32). If no digits were read, then the integer is 0. Change the sign as necessary (from step 2).\n",
    "# If the integer is out of the 32-bit signed integer range [-231, 231 - 1], then clamp the integer so that it remains in the range. \n",
    "# Specifically, integers less than -231 should be clamped to -231, and integers greater than 231 - 1 should be clamped to 231 - 1.\n",
    "# Return the integer as the final result.\n",
    "\n",
    "# Note:\n",
    "# Only the space character ' ' is considered a whitespace character.\n",
    "# Do not ignore any characters other than the leading whitespace or the rest of the string after the digits.\n",
    "\n",
    "# Input: s = \"4193 with words\"\n",
    "# Output: 4193\n",
    "\n",
    "# Input: s = \"   -42\"\n",
    "# Output: -42"
   ]
  },
  {
   "cell_type": "code",
   "execution_count": 8,
   "metadata": {},
   "outputs": [
    {
     "data": {
      "text/plain": [
       "-21"
      ]
     },
     "execution_count": 8,
     "metadata": {},
     "output_type": "execute_result"
    }
   ],
   "source": [
    "def myAtoi(x):\n",
    "    # naive solution\n",
    "    if x < 0:\n",
    "        return -int(str(x)[1:][::-1])\n",
    "    else:\n",
    "        return int(str(x)[::-1])\n",
    "reverse(-120)\n"
   ]
  },
  {
   "cell_type": "code",
   "execution_count": 31,
   "metadata": {},
   "outputs": [
    {
     "data": {
      "text/plain": [
       "False"
      ]
     },
     "execution_count": 31,
     "metadata": {},
     "output_type": "execute_result"
    }
   ],
   "source": [
    "9646324351 in range(-2**31, 2**31 - 1)"
   ]
  },
  {
   "cell_type": "code",
   "execution_count": null,
   "metadata": {},
   "outputs": [],
   "source": []
  }
 ],
 "metadata": {
  "interpreter": {
   "hash": "f53b217d8430526303bffcd87b390d5c67e67390f11595101f60a03768747934"
  },
  "kernelspec": {
   "display_name": "Python 3.8.5 ('base')",
   "language": "python",
   "name": "python3"
  },
  "language_info": {
   "codemirror_mode": {
    "name": "ipython",
    "version": 3
   },
   "file_extension": ".py",
   "mimetype": "text/x-python",
   "name": "python",
   "nbconvert_exporter": "python",
   "pygments_lexer": "ipython3",
   "version": "3.8.5"
  },
  "orig_nbformat": 4
 },
 "nbformat": 4,
 "nbformat_minor": 2
}
