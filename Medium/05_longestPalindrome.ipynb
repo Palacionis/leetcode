{
 "cells": [
  {
   "cell_type": "code",
   "execution_count": null,
   "metadata": {},
   "outputs": [],
   "source": [
    "# Given a string s, return the longest palindromic substring in s\n",
    "\n",
    "\n",
    "# Input: s = \"babad\"\n",
    "# Output: \"bab\"\n",
    "# Explanation: \"aba\" is also a valid answer\n",
    "\n",
    "\n",
    "# Input: s = \"cbbd\"\n",
    "# Output: \"bb\""
   ]
  },
  {
   "cell_type": "code",
   "execution_count": 6,
   "metadata": {},
   "outputs": [
    {
     "data": {
      "text/plain": [
       "'aaa'"
      ]
     },
     "execution_count": 6,
     "metadata": {},
     "output_type": "execute_result"
    }
   ],
   "source": [
    "def longestPalindrome(s):\n",
    "        longest_palindrome = ''\n",
    "        dp = [[0]*len(s) for _ in range(len(s))]\n",
    "        \n",
    "        for i in range(len(s)):\n",
    "            dp[i][i] = True\n",
    "            longest_palindrome = s[i]\n",
    "\t\t\t\n",
    "       \n",
    "        for i in range(len(s)-1,-1,-1):\n",
    "            for j in range(i+1,len(s)):  \n",
    "                if s[i] == s[j]:  \n",
    "                    if j-i ==1 or dp[i+1][j-1] is True:\n",
    "                        dp[i][j] = True\n",
    "                       \n",
    "                        if len(longest_palindrome) < len(s[i:j+1]):\n",
    "                            longest_palindrome = s[i:j+1]\n",
    "                \n",
    "        return longest_palindrome\n",
    "\n",
    "\n",
    "longestPalindrome('aaabbdaae')"
   ]
  },
  {
   "cell_type": "code",
   "execution_count": null,
   "metadata": {},
   "outputs": [],
   "source": []
  }
 ],
 "metadata": {
  "interpreter": {
   "hash": "a927df1c454baf2e029b41597da70c29fdc6e08f150c40e418cdd087fe40ab12"
  },
  "kernelspec": {
   "display_name": "Python 3.8.5 ('base')",
   "language": "python",
   "name": "python3"
  },
  "language_info": {
   "codemirror_mode": {
    "name": "ipython",
    "version": 3
   },
   "file_extension": ".py",
   "mimetype": "text/x-python",
   "name": "python",
   "nbconvert_exporter": "python",
   "pygments_lexer": "ipython3",
   "version": "3.8.5"
  },
  "orig_nbformat": 4
 },
 "nbformat": 4,
 "nbformat_minor": 2
}
