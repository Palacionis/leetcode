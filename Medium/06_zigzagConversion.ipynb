{
 "cells": [
  {
   "cell_type": "code",
   "execution_count": null,
   "metadata": {},
   "outputs": [],
   "source": [
    "# The string \"PAYPALISHIRING\" is written in a zigzag pattern on a given number of rows like this: \n",
    "\n",
    "# P   A   H   N\n",
    "# A P L S I I G\n",
    "# Y   I   R\n",
    "\n",
    "\n",
    "# And then read line by line: \"PAHNAPLSIIGYIR\"\n",
    "\n",
    "\n",
    "# Write the code that will take a string and make this conversion given a number of rows:\n",
    "\n",
    "# Input: s = \"PAYPALISHIRING\", numRows = 3\n",
    "# Output: \"PAHNAPLSIIGYIR\"\n",
    "\n",
    "\n",
    "# Input: s = \"PAYPALISHIRING\", numRows = 4\n",
    "# Output: \"PINALSIGYAHRPI\"\n",
    "# Explanation:\n",
    "# P     I    N\n",
    "# A   L S  I G\n",
    "# Y A   H R\n",
    "# P     I"
   ]
  },
  {
   "cell_type": "code",
   "execution_count": 29,
   "metadata": {},
   "outputs": [
    {
     "data": {
      "text/plain": [
       "'PAHNAPLSIIGYIR'"
      ]
     },
     "execution_count": 29,
     "metadata": {},
     "output_type": "execute_result"
    }
   ],
   "source": [
    "def convert(s, n):\n",
    "    if n == 1:\n",
    "            return s\n",
    "        \n",
    "    rows = [\"\" for i in range(n)]\n",
    "    \n",
    "    direction = -1\n",
    "    row = 0\n",
    "\n",
    "    for i in range(len(s)):\n",
    "        \n",
    "        rows[row]+=s[i]\n",
    "        if (row == 0 or row==n-1):\n",
    "            direction *= -1\n",
    "        row+=direction\n",
    "        \n",
    "    return \"\".join(rows)\n",
    "        \n",
    "\n",
    "\n",
    "convert('PAYPALISHIRING', 3)"
   ]
  }
 ],
 "metadata": {
  "interpreter": {
   "hash": "f53b217d8430526303bffcd87b390d5c67e67390f11595101f60a03768747934"
  },
  "kernelspec": {
   "display_name": "Python 3.8.5 ('base')",
   "language": "python",
   "name": "python3"
  },
  "language_info": {
   "codemirror_mode": {
    "name": "ipython",
    "version": 3
   },
   "file_extension": ".py",
   "mimetype": "text/x-python",
   "name": "python",
   "nbconvert_exporter": "python",
   "pygments_lexer": "ipython3",
   "version": "3.8.5"
  },
  "orig_nbformat": 4
 },
 "nbformat": 4,
 "nbformat_minor": 2
}
