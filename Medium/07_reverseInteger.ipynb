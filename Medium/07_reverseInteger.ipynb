{
 "cells": [
  {
   "cell_type": "code",
   "execution_count": null,
   "metadata": {},
   "outputs": [],
   "source": [
    "# Given a signed 32-bit integer x, return x with its digits reversed. \n",
    "# If reversing x causes the value to go outside the signed 32-bit integer range [-231, 231 - 1], then return 0.\n",
    "\n",
    "# Input: x = 123\n",
    "# Output: 321\n",
    "\n",
    "# Input: x = -123\n",
    "# Output: -321\n",
    "\n",
    "# Input: x = 120\n",
    "# Output: 21\n"
   ]
  },
  {
   "cell_type": "code",
   "execution_count": 8,
   "metadata": {},
   "outputs": [
    {
     "data": {
      "text/plain": [
       "-21"
      ]
     },
     "execution_count": 8,
     "metadata": {},
     "output_type": "execute_result"
    }
   ],
   "source": [
    "def reverse(x):\n",
    "    # naive solution\n",
    "    if x < 0:\n",
    "        return -int(str(x)[1:][::-1])\n",
    "    else:\n",
    "        return int(str(x)[::-1])\n",
    "reverse(-120)\n"
   ]
  },
  {
   "cell_type": "code",
   "execution_count": 33,
   "metadata": {},
   "outputs": [
    {
     "data": {
      "text/plain": [
       "0"
      ]
     },
     "execution_count": 33,
     "metadata": {},
     "output_type": "execute_result"
    }
   ],
   "source": [
    "def reverse(x):\n",
    "    flag = True if x < 0 else False\n",
    "    x = abs(x)\n",
    "    ans = 0\n",
    "\n",
    "    while x:\n",
    "        digit = x % 10 # 120 -> 0 -> 2 -> 1\n",
    "\n",
    "        ans = ans * 10 + digit\n",
    "        x = x // 10\n",
    "        \n",
    "    flag_2 = True if ans in range(-2**31, 2**31 - 1) else False\n",
    "\n",
    "    if flag_2:\n",
    "        return -ans if flag else ans\n",
    "    return 0\n",
    "    \n",
    "\n",
    "reverse(1534236469)\n",
    "   "
   ]
  },
  {
   "cell_type": "code",
   "execution_count": 31,
   "metadata": {},
   "outputs": [
    {
     "data": {
      "text/plain": [
       "False"
      ]
     },
     "execution_count": 31,
     "metadata": {},
     "output_type": "execute_result"
    }
   ],
   "source": [
    "9646324351 in range(-2**31, 2**31 - 1)"
   ]
  },
  {
   "cell_type": "code",
   "execution_count": null,
   "metadata": {},
   "outputs": [],
   "source": []
  }
 ],
 "metadata": {
  "interpreter": {
   "hash": "f53b217d8430526303bffcd87b390d5c67e67390f11595101f60a03768747934"
  },
  "kernelspec": {
   "display_name": "Python 3.8.5 ('base')",
   "language": "python",
   "name": "python3"
  },
  "language_info": {
   "codemirror_mode": {
    "name": "ipython",
    "version": 3
   },
   "file_extension": ".py",
   "mimetype": "text/x-python",
   "name": "python",
   "nbconvert_exporter": "python",
   "pygments_lexer": "ipython3",
   "version": "3.8.5"
  },
  "orig_nbformat": 4
 },
 "nbformat": 4,
 "nbformat_minor": 2
}
