{
 "cells": [
  {
   "cell_type": "code",
   "execution_count": null,
   "metadata": {},
   "outputs": [],
   "source": [
    "# You are given two non-empty linked lists representing two non-negative integers. \n",
    "# The digits are stored in reverse order, and each of their nodes contains a single digit. \n",
    "# Add the two numbers and return the sum as a linked list.\n",
    "\n",
    "# You may assume the two numbers do not contain any leading zero, except the number 0 itself.\n",
    "\n",
    "\n",
    "# Input: l1 = [2,4,3], l2 = [5,6,4]\n",
    "# Output: [7,0,8]\n",
    "# Explanation: 342 + 465 = 807"
   ]
  },
  {
   "cell_type": "code",
   "execution_count": null,
   "metadata": {},
   "outputs": [],
   "source": [
    "# Definition for singly-linked list.\n",
    "class ListNode:\n",
    "    def __init__(self, val=0, next=None):\n",
    "        self.val = val\n",
    "        self.next = next\n",
    "\n",
    "\n",
    "def addTwoNumbers(self, l1, l2, c = 0):\n",
    "      \"\"\"\n",
    "      :type l1: ListNode\n",
    "      :type l2: ListNode\n",
    "      :rtype: ListNode\n",
    "      \"\"\"\n",
    "      \n",
    "      val = l1.val + l2.val + c\n",
    "      c = val // 10\n",
    "      ret = ListNode(val % 10 ) \n",
    "      \n",
    "      if (l1.next != None or l2.next != None or c != 0):\n",
    "          if l1.next == None:\n",
    "              l1.next = ListNode(0)\n",
    "          if l2.next == None:\n",
    "              l2.next = ListNode(0)\n",
    "          ret.next = self.addTwoNumbers(l1.next,l2.next,c)\n",
    "      return ret"
   ]
  }
 ],
 "metadata": {
  "interpreter": {
   "hash": "5d9ebf5b8fca2044c25ec1c29ae6ce8b29a2c6b4659c72bccbd29e13c75a5fde"
  },
  "kernelspec": {
   "display_name": "Python 3.8.12 ('Kursams')",
   "language": "python",
   "name": "python3"
  },
  "language_info": {
   "name": "python",
   "version": "3.8.12"
  },
  "orig_nbformat": 4
 },
 "nbformat": 4,
 "nbformat_minor": 2
}
